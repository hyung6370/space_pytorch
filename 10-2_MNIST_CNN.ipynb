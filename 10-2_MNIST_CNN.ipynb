{
 "cells": [
  {
   "cell_type": "code",
   "execution_count": 1,
   "id": "94954c69",
   "metadata": {},
   "outputs": [],
   "source": [
    "import torch\n",
    "import torch.nn as nn"
   ]
  },
  {
   "cell_type": "code",
   "execution_count": 2,
   "id": "104c353b",
   "metadata": {},
   "outputs": [
    {
     "data": {
      "text/plain": [
       "tensor([[[[ 0.0000e+00,  0.0000e+00,  3.8983e-39,  3.3329e-29,  0.0000e+00,\n",
       "            0.0000e+00,  3.4391e-12,  2.5353e+30,  6.3058e-44,  1.6661e-41,\n",
       "            1.4035e+02,  6.1608e+01,  6.0115e+07,  4.5200e+30,  2.8026e-45,\n",
       "            1.7020e-41,  1.1429e-39,  8.8039e-10,  2.5353e+30,  6.8664e-44,\n",
       "            1.8096e-41,  4.7245e-39,  2.9829e-30,  2.5353e+30,  9.1084e-44,\n",
       "            1.8814e-41,  4.9082e-39,  7.6362e-28],\n",
       "          [ 2.5353e+30,  2.8026e-44,  7.6931e-42,  4.8163e-39,  1.2398e-38,\n",
       "            1.9629e-25,  0.0000e+00,  9.4832e-38,  1.5166e-36,  2.4267e-35,\n",
       "            2.4267e-35,  3.8368e-31,  1.4948e+02,  2.6460e+11,  4.9662e-08,\n",
       "            4.5592e+30,  2.6378e+23,  7.1443e+31,  2.8450e-36,  2.5353e+30,\n",
       "            1.4013e-45,  1.5947e-42,  4.0824e-40,  4.1991e+30,  7.0065e-45,\n",
       "            5.7711e-05,  2.5353e+30,  7.9874e-44],\n",
       "          [ 2.0966e-41,  5.4592e-39,  5.1245e-20,  2.5353e+30,  6.1657e-44,\n",
       "            1.6303e-41,  6.0102e-39,  1.4771e-02,  2.5353e+30,  2.1019e-44,\n",
       "            1.4150e-41,  3.8062e-39,  5.9082e-02,  2.5353e+30,  7.2868e-44,\n",
       "            2.2401e-41,  1.8776e-39,  1.2218e-26,  2.5353e+30,  2.5223e-44,\n",
       "            7.6931e-42,  6.0102e-39,  9.1835e-39,  1.2268e-26,  3.8519e-34,\n",
       "            6.5489e-33,  9.1838e-41,  6.2616e-30],\n",
       "          [ 4.2139e-34,  2.5553e+30,  9.1084e-44,  5.1263e-20,  9.0072e+15,\n",
       "            4.7429e+30,  1.3494e+28,  1.8042e+28,  1.8062e+28,  1.6003e+16,\n",
       "            4.7429e+30,  1.3494e+28,  1.8042e+28,  1.8062e+28,  5.1707e-11,\n",
       "            1.7197e+16,  4.7429e+30,  1.3494e+28,  2.9179e+32,  1.8465e+25,\n",
       "            1.0901e+27,  1.5944e-41,  1.6334e+23,  7.2076e+31,  2.7490e+20,\n",
       "            2.7043e-39,  6.8789e-28,  4.4721e+21],\n",
       "          [ 1.8428e+28,  2.8298e+20,  3.0304e+35,  8.2126e-19,  9.0072e+15,\n",
       "            1.1806e+30,  7.5532e+28,  5.2839e-11,  2.2112e+32,  1.8730e+31,\n",
       "            8.7721e-43,  2.6278e+27,  1.1866e+27,  5.1358e-36,  1.2090e+33,\n",
       "            1.0204e-41,  1.3435e+02,  3.5860e-09,  3.1654e-40,  4.1001e-35,\n",
       "            1.2090e+33,  9.4684e-01,  9.0072e+15,  1.8512e+28,  4.5200e+30,\n",
       "            9.1084e-44,  7.3344e-42,  1.8776e-39],\n",
       "          [ 1.2218e-26,  2.5353e+30,  2.9427e-44,  3.6371e+27,  1.1866e+27,\n",
       "            2.0605e-40,  7.6677e-28,  3.8519e-34,  3.8829e-34,  4.0727e-28,\n",
       "            6.2615e-33,  5.4296e-28,  6.1657e-44,  5.6052e-45,  9.3887e-44,\n",
       "            1.8098e-41,  4.0708e+31, -4.4257e-19,  4.1044e+31, -1.1135e-19,\n",
       "           -3.7801e-37,  4.0647e+31, -1.1219e-19, -3.7801e-37,  4.0647e+31,\n",
       "            1.0655e+37, -1.1389e-19, -4.3532e-19],\n",
       "          [ 2.8494e-14,  1.9014e-19,  2.0701e-19,  1.9432e-19,  2.6563e+20,\n",
       "            2.0703e-19,  7.7140e+31,  1.9519e-19,  2.8958e+32,  5.0832e+31,\n",
       "            1.8178e+31,  2.6800e+20,  7.2939e+22,  2.0026e-19,  2.8184e+20,\n",
       "            7.9430e+29,  2.8149e+23,  1.1723e-19,  1.8461e+20,  1.8319e+25,\n",
       "            7.2151e+22,  2.0283e-19,  1.9860e+29,  2.7716e+20,  1.1723e-19,\n",
       "            3.5555e-14,  2.2450e-39,  1.1932e-29],\n",
       "          [-9.0072e+15,  7.4450e+34,  1.5104e-39,  1.9090e-28,  2.5353e+30,\n",
       "            2.5223e-44,  1.0563e-41,  2.7960e-39,  3.1040e-38,  2.0914e+02,\n",
       "            8.1226e+05,  2.2374e+11,  4.9488e+04,  1.4219e+19,  1.3490e+13,\n",
       "            2.2327e+02,  9.0733e+11,  8.6457e+11,  2.4287e-39,  5.0044e-23,\n",
       "            2.5353e+30,  3.7835e-44,  6.8222e+22,  6.7404e+22,  1.1866e+27,\n",
       "            4.4525e+21,  1.7411e+25,  4.7611e+30],\n",
       "          [ 1.0646e+24,  7.2251e+28,  1.7860e+25,  2.2450e-38,  7.6677e-28,\n",
       "            0.0000e+00,  6.2130e-33,  6.2598e-33,  9.6252e-38,  3.7471e-37,\n",
       "            5.2755e-39,  9.0917e-39,  0.0000e+00,  0.0000e+00,  2.3510e-38,\n",
       "            1.5046e-36,  1.2800e+02,  1.0141e+31,  1.2051e-43,  4.4816e-38,\n",
       "            1.4786e-38,  1.0653e-38,  2.3512e-37,  4.8123e-38,  1.0653e-38,\n",
       "            2.3512e-37,  4.8123e-38,  1.0653e-38],\n",
       "          [ 1.5047e-35,  4.8123e-38,  1.0653e-38,  1.5048e-35,  0.0000e+00,\n",
       "            0.0000e+00,  4.7695e-38,  1.4013e-45,  4.0736e-42,  0.0000e+00,\n",
       "                   nan,         nan,  6.7914e-33,  0.0000e+00,  9.9043e+20,\n",
       "            3.2426e-42,  3.1809e-43,  0.0000e+00,  0.0000e+00,  0.0000e+00,\n",
       "            1.4349e-42,  2.2959e-41,  7.5718e-39,  9.1835e-39,  9.9187e-39,\n",
       "            9.1837e-39,  4.3347e-38,  9.1837e-39],\n",
       "          [ 1.7339e-37,  9.1837e-39,  6.9356e-37,  1.8526e-40,  1.1144e-35,\n",
       "            9.4114e-41,  1.6751e-37,  1.2124e-38,  4.3073e-35,  7.7012e-37,\n",
       "            6.5233e-39,  1.0721e-35,  1.0721e-35,  2.8170e-33,  1.0497e-32,\n",
       "            7.6228e-39,  2.1400e-38,  5.3687e+08,  1.3873e-43,  0.0000e+00,\n",
       "            0.0000e+00,  0.0000e+00,  1.4349e-42,  0.0000e+00,  7.0208e-39,\n",
       "            9.2754e-39,  9.1840e-39,  4.1879e-38],\n",
       "          [ 2.6920e-36,  4.4014e-35,  6.5611e-34,  1.2402e-38,  2.6802e-36,\n",
       "            3.1783e-33,  4.2889e-35,  1.2125e-38,  6.8623e-34,  1.2126e-38,\n",
       "            1.7645e-31,  4.2245e-38,  4.3919e-32,  4.8134e-38,  1.2403e-38,\n",
       "            2.6871e-30,  5.2078e-31,  8.1384e+08,  1.4046e+13, -1.0754e+12,\n",
       "            1.3563e-19,  4.0064e+01,  6.0115e+07,  1.9329e-19,  2.8958e+32,\n",
       "            1.2119e+25,  1.9069e-19,  7.1856e+22],\n",
       "          [ 7.3387e+28,  6.9790e+22,  1.9519e-19,  4.5080e+21,  4.7399e+30,\n",
       "            1.9329e-19,  1.9349e-19,  1.4046e+13,  1.3556e-19,  6.3494e+22,\n",
       "            7.0680e+28,  5.0850e+31,  1.2708e+31,  1.9433e-19,  7.2143e+22,\n",
       "            4.1579e+21,  1.7836e+31,  1.0988e+27,  9.2869e-04,  4.7429e+30,\n",
       "            1.3494e+28,  3.0573e+32,  1.8469e+25,  5.1931e-11,  4.5080e+21,\n",
       "            4.7399e+30,  6.5773e+19,  1.1692e-19],\n",
       "          [ 1.0008e+01,  1.8319e+25,  7.2151e+22,  1.1708e-19,  1.3563e-19,\n",
       "            6.8773e+11,  1.9433e-19,  5.0849e+31,  4.2964e+24,  5.4213e-11,\n",
       "            1.7444e+28,  7.3909e+22,  2.2388e+20,  9.7471e+08,  1.3821e-08,\n",
       "            1.1692e-19, -7.5617e+23, -1.3687e-33,  4.4721e-01, -1.5882e-23,\n",
       "           -2.9297e-04,  4.0294e-40,  0.0000e+00,  0.0000e+00,  3.6734e-40,\n",
       "            4.5918e-40,  2.7551e-40,  5.0251e-23],\n",
       "          [ 4.0565e+31,  2.6886e+36,  3.9445e+25,  2.6893e+36,  9.7018e+21,\n",
       "            2.4162e-38,  5.5143e+11,  5.4803e+08,  1.2813e-36, -1.7130e+16,\n",
       "            4.6312e+27,  3.0985e+32, -9.2297e+15,  3.0385e+29,  1.7812e-37,\n",
       "           -9.0072e+15,  1.6877e+25,  1.7612e+19, -9.3352e+15,  1.1095e+27,\n",
       "            1.0859e+28,  2.6378e+23,  3.0979e+32,  4.8210e+30,  8.4078e-45,\n",
       "            2.6709e-42, -9.1240e+15,  4.1205e+21],\n",
       "          [ 1.9283e+31,  1.5554e-38,  1.2055e+13,  1.9205e+31,  2.9388e+29,\n",
       "            6.8614e+22,  5.4281e+28,  2.0229e+20,  7.0371e+28,  5.2478e-08,\n",
       "            1.0765e+21,  7.9050e+31,  5.5515e-08,  1.3883e+31,  1.3043e-11,\n",
       "            2.7489e+26,  1.8175e+31,  4.7429e+30,  1.3572e+28,  1.8042e+28,\n",
       "            1.8062e+28,  2.0683e-10,  1.7444e+28,  7.3909e+22,  7.3405e+28,\n",
       "            6.9790e+22,  1.7500e+28,  1.1095e+27],\n",
       "          [ 7.7943e+34,  3.3883e-42,  7.1746e-42,  2.2493e-40,  2.3510e-38,\n",
       "            8.1398e+08,  1.4046e+13,  1.2566e+19,  1.8014e+25,  4.1205e+21,\n",
       "            2.8026e-45,  0.0000e+00,  0.0000e+00,  2.8026e-45,  1.4013e-44,\n",
       "            9.3887e-44,  2.3120e-41,  2.6679e+36, -3.8031e-37,  1.5642e+26,\n",
       "            4.7678e+31, -3.8318e-37,  4.1043e+31,  4.0020e+25,  2.7961e+36,\n",
       "            3.8832e+25,  3.8832e+25,  3.8832e+25],\n",
       "          [ 3.8832e+25,  3.8832e+25,  3.8832e+25,  3.8832e+25,  5.8682e+11,\n",
       "            5.5013e+08,  1.7614e-42,  6.6960e+05,  7.7783e+31,  2.6800e+20,\n",
       "            3.1025e+27,  2.0706e-19,  4.6231e+19,  1.4595e-19,  1.6402e+05,\n",
       "            4.7767e-14,  2.0847e-30,  6.9659e+22,  1.0605e+31,  7.0948e+22,\n",
       "            2.4677e+20,  3.6713e+03,  4.7427e+30,  7.5521e+28, -1.6353e+16,\n",
       "            1.9049e+31,  3.0555e+32,  1.8469e+25],\n",
       "          [ 1.6072e+16,  7.1427e+31,  1.7285e+28,  1.3821e-08,  7.1536e+22,\n",
       "            8.2175e-35,  1.1022e+24,  5.1358e-36,  1.7859e+31,  3.0684e+32,\n",
       "            1.8061e+28,  7.0060e+22,  8.4137e-32,  1.8450e+28,  1.6676e+19,\n",
       "            4.8008e+30,  8.4078e-45,  4.4830e+21, -1.6144e+16,  4.5453e+30,\n",
       "            7.4392e+28, -5.4275e-14,  1.0511e-39,  2.0501e-35,  3.0478e+32,\n",
       "            1.3268e-39,  2.9829e-30,  2.5353e+30],\n",
       "          [ 2.1019e-44,  7.1191e+28,  4.4658e+30,  8.3910e-42,  1.1433e-39,\n",
       "            3.7616e-37,  2.4980e-38,  2.6082e-38,  4.9500e-29,  6.2071e+22,\n",
       "            1.3159e+22,  4.7418e+30,  1.7885e+22,  4.9746e-43,  0.0000e+00,\n",
       "            0.0000e+00,  3.5873e-43,  3.5873e-43,  2.4035e-41,  4.0860e-40,\n",
       "            4.1877e-38,  1.2416e-37,  3.9018e+10,  7.5546e+31,  1.6932e+22,\n",
       "            6.2071e+22,  1.3159e+22,  5.1820e-42],\n",
       "          [ 2.5682e+30,  1.5414e-44,  5.1820e-42,  1.3266e-39,  1.1932e-29,\n",
       "           -9.0072e+15,  6.8289e+22,  2.7483e+20,  2.9751e-39,  1.7853e-37,\n",
       "            0.0000e+00,  3.6619e+01,  6.0115e+07,  5.1886e-11,  7.2701e+31,\n",
       "            4.3605e+27,  2.1933e-40,  0.0000e+00,  0.0000e+00,  1.8367e-40,\n",
       "            2.7551e-40,  2.7551e-40,  4.7923e-29,  4.0565e+31,  2.6886e+36,\n",
       "           -1.1055e-19, -4.3871e-19, -2.8494e-14],\n",
       "          [ 4.9754e-37,  3.0296e-42,  2.2457e-40,  2.0993e-32,  4.6316e+27,\n",
       "            7.3162e+28,  2.4899e-37,  1.0978e+27,  2.5504e+27,  1.8673e-31,\n",
       "            2.5353e+30,  1.9618e-44,  5.5407e-42,  3.2551e-39,  3.2142e-39,\n",
       "            1.7853e-37,  0.0000e+00,  3.6869e+01,  6.0115e+07,  5.1886e-11,\n",
       "            4.6316e+27,  7.3162e+28,  1.2450e-37,  1.2359e-42,  4.0824e-40,\n",
       "            8.3323e-30,  1.6071e+19,  7.0062e+22],\n",
       "          [ 2.1029e-32,  7.3463e+28,  6.9790e+22,  3.3646e-31,  3.0598e+32,\n",
       "            2.7488e+20,  1.6097e+19,  1.6071e+19,  1.6388e+19,  1.8777e-39,\n",
       "            3.2032e-37,  5.2585e-33,  4.8415e+30,  1.8393e+25,  2.2471e-40,\n",
       "            1.3435e-30,  3.4272e+09,  2.3418e+08,  5.5907e+07,  8.6751e-40,\n",
       "            5.1245e-20,  2.5353e+30,  4.6243e-44,  1.0979e+27,  4.7090e+27,\n",
       "            7.1941e+28,  3.2553e-39,  1.3435e-30],\n",
       "          [ 1.0995e+27,  4.4909e+21,  1.7036e+19,  1.3267e-39,  2.9829e-30,\n",
       "            2.5353e+30,  1.6816e-44,  5.5407e-42,  2.2457e-40,  7.3468e-40,\n",
       "            2.9952e-30,  3.8519e-34,  6.5971e-33,  3.9438e-34,  9.6267e-38,\n",
       "            2.2457e-40,  9.0917e-39,  0.0000e+00,  0.0000e+00,  0.0000e+00,\n",
       "            1.5046e-36,  0.0000e+00,  1.0141e+31,  1.0650e-43,  4.0041e-38,\n",
       "            1.6016e-37,  6.4066e-37,  1.1003e-35],\n",
       "          [ 1.7606e-34,  1.7567e-31,  4.2245e-38,  1.0721e-35,  2.6245e-33,\n",
       "            1.7155e-34,  1.0496e-32,  2.7448e-33,  4.1986e-32,  1.2402e-38,\n",
       "            1.0978e-32,  7.9471e-34,  6.7178e-31,  3.6753e-40,  7.6275e-39,\n",
       "            1.3123e-33,  6.2071e+22,  1.3232e+22,  1.1759e-19,  1.0008e+01,\n",
       "            2.2147e+11,  4.9662e-08,  7.3387e+28,  6.9790e+22,  2.0618e-19,\n",
       "            2.9172e+32,  1.9346e-19,  2.8958e+32],\n",
       "          [ 4.9640e+28,  2.2381e+20,  9.7471e+08,  5.5285e-08,  1.7418e+28,\n",
       "            6.2018e+22,  6.6605e-33,  1.3563e-19,  1.8492e+20,  7.6197e+31,\n",
       "            6.8608e+22,  4.3608e+27,  1.8037e+28,  2.8617e+23,  1.9430e-19,\n",
       "            6.1207e-04,  1.7860e+31,  7.1061e+31,  4.2964e+24,  5.4213e-11,\n",
       "            1.7444e+28,  7.3909e+22,  2.2388e+20,  9.7471e+08,  5.5285e-08,\n",
       "            8.3959e-33,  1.3563e-19,  7.7407e+31],\n",
       "          [ 2.8701e+32,  9.2848e-04,  1.3563e-19,  1.3563e-19,  4.3584e+27,\n",
       "            1.7836e+31,  4.7429e+30,  1.3494e+28,  3.0573e+32,  1.8469e+25,\n",
       "            5.1931e-11,  4.5080e+21,  4.7399e+30,  1.0987e-32,  1.3563e-19,\n",
       "            3.1645e-40,  2.8447e-36,  2.3612e+21,  5.6052e-45,  0.0000e+00,\n",
       "            0.0000e+00,  5.6052e-45,  7.0065e-45,  4.2039e-45,  9.4882e-42,\n",
       "            4.0708e+31, -3.7758e-37,  2.7086e+36],\n",
       "          [ 2.7101e+36, -3.9872e-31,  9.4450e+21,  2.5417e+30,  7.0065e-45,\n",
       "            7.2828e-34,  2.5353e+30,  6.7262e-44,  3.3883e-42,  9.5925e-40,\n",
       "            1.8643e-31,  2.5353e+30,  1.9618e-44,  5.5407e-42,  8.6741e-40,\n",
       "            4.8673e-39,  1.7853e-37,  0.0000e+00,  3.6369e+01,  6.0115e+07,\n",
       "            5.1887e-11,  1.8056e+28,  1.6102e+19,  8.5619e-43,  0.0000e+00,\n",
       "            0.0000e+00,  7.1746e-43,  3.5873e-42]]]])"
      ]
     },
     "execution_count": 2,
     "metadata": {},
     "output_type": "execute_result"
    }
   ],
   "source": [
    "inputs = torch.Tensor(1, 1, 28, 28)\n",
    "inputs"
   ]
  },
  {
   "cell_type": "code",
   "execution_count": 3,
   "id": "770e4a9a",
   "metadata": {},
   "outputs": [
    {
     "data": {
      "text/plain": [
       "torch.Size([1, 1, 28, 28])"
      ]
     },
     "execution_count": 3,
     "metadata": {},
     "output_type": "execute_result"
    }
   ],
   "source": [
    "inputs.shape"
   ]
  },
  {
   "cell_type": "code",
   "execution_count": 4,
   "id": "c4c9eea6",
   "metadata": {},
   "outputs": [
    {
     "data": {
      "text/plain": [
       "MaxPool2d(kernel_size=2, stride=2, padding=0, dilation=1, ceil_mode=False)"
      ]
     },
     "execution_count": 4,
     "metadata": {},
     "output_type": "execute_result"
    }
   ],
   "source": [
    "conv1 = nn.Conv2d(1, 32, 3, padding=1)\n",
    "pool = nn.MaxPool2d(2)\n",
    "pool"
   ]
  },
  {
   "cell_type": "code",
   "execution_count": 5,
   "id": "e058c0bb",
   "metadata": {},
   "outputs": [
    {
     "data": {
      "text/plain": [
       "Conv2d(32, 64, kernel_size=(3, 3), stride=(1, 1), padding=(1, 1))"
      ]
     },
     "execution_count": 5,
     "metadata": {},
     "output_type": "execute_result"
    }
   ],
   "source": [
    "conv2 = nn.Conv2d(32, 64, 3, padding=1)\n",
    "conv2"
   ]
  },
  {
   "cell_type": "code",
   "execution_count": 6,
   "id": "56d8b4d9",
   "metadata": {},
   "outputs": [
    {
     "data": {
      "text/plain": [
       "MaxPool2d(kernel_size=2, stride=2, padding=0, dilation=1, ceil_mode=False)"
      ]
     },
     "execution_count": 6,
     "metadata": {},
     "output_type": "execute_result"
    }
   ],
   "source": [
    "pool"
   ]
  },
  {
   "cell_type": "code",
   "execution_count": 7,
   "id": "fbaaeab7",
   "metadata": {},
   "outputs": [
    {
     "data": {
      "text/plain": [
       "torch.Size([1, 32, 28, 28])"
      ]
     },
     "execution_count": 7,
     "metadata": {},
     "output_type": "execute_result"
    }
   ],
   "source": [
    "out = conv1(inputs)\n",
    "out.shape"
   ]
  },
  {
   "cell_type": "code",
   "execution_count": 8,
   "id": "ef634ffe",
   "metadata": {},
   "outputs": [
    {
     "data": {
      "text/plain": [
       "torch.Size([1, 32, 14, 14])"
      ]
     },
     "execution_count": 8,
     "metadata": {},
     "output_type": "execute_result"
    }
   ],
   "source": [
    "out = pool(out)\n",
    "out.shape"
   ]
  },
  {
   "cell_type": "code",
   "execution_count": 9,
   "id": "b4e7912e",
   "metadata": {},
   "outputs": [
    {
     "data": {
      "text/plain": [
       "torch.Size([1, 64, 14, 14])"
      ]
     },
     "execution_count": 9,
     "metadata": {},
     "output_type": "execute_result"
    }
   ],
   "source": [
    "out = conv2(out)\n",
    "out.shape"
   ]
  },
  {
   "cell_type": "code",
   "execution_count": 10,
   "id": "7a91a4b9",
   "metadata": {},
   "outputs": [
    {
     "data": {
      "text/plain": [
       "torch.Size([1, 64, 7, 7])"
      ]
     },
     "execution_count": 10,
     "metadata": {},
     "output_type": "execute_result"
    }
   ],
   "source": [
    "out = pool(out)\n",
    "out.shape"
   ]
  },
  {
   "cell_type": "code",
   "execution_count": 11,
   "id": "c7ef7647",
   "metadata": {},
   "outputs": [
    {
     "data": {
      "text/plain": [
       "1"
      ]
     },
     "execution_count": 11,
     "metadata": {},
     "output_type": "execute_result"
    }
   ],
   "source": [
    "out.size(0)"
   ]
  },
  {
   "cell_type": "code",
   "execution_count": 12,
   "id": "79f5d696",
   "metadata": {},
   "outputs": [
    {
     "data": {
      "text/plain": [
       "64"
      ]
     },
     "execution_count": 12,
     "metadata": {},
     "output_type": "execute_result"
    }
   ],
   "source": [
    "out.size(1)"
   ]
  },
  {
   "cell_type": "code",
   "execution_count": 13,
   "id": "f53df491",
   "metadata": {},
   "outputs": [
    {
     "data": {
      "text/plain": [
       "7"
      ]
     },
     "execution_count": 13,
     "metadata": {},
     "output_type": "execute_result"
    }
   ],
   "source": [
    "out.size(2)"
   ]
  },
  {
   "cell_type": "code",
   "execution_count": 14,
   "id": "a801f069",
   "metadata": {},
   "outputs": [
    {
     "data": {
      "text/plain": [
       "7"
      ]
     },
     "execution_count": 14,
     "metadata": {},
     "output_type": "execute_result"
    }
   ],
   "source": [
    "out.size(3)"
   ]
  },
  {
   "cell_type": "code",
   "execution_count": 15,
   "id": "f8c0af69",
   "metadata": {},
   "outputs": [
    {
     "data": {
      "text/plain": [
       "torch.Size([1, 3136])"
      ]
     },
     "execution_count": 15,
     "metadata": {},
     "output_type": "execute_result"
    }
   ],
   "source": [
    "out = out.view(out.size(0), -1)\n",
    "out.shape"
   ]
  },
  {
   "cell_type": "code",
   "execution_count": 16,
   "id": "ac741501",
   "metadata": {},
   "outputs": [
    {
     "data": {
      "text/plain": [
       "tensor([[nan, nan, nan, nan, nan, nan, nan, nan, nan, nan]],\n",
       "       grad_fn=<AddmmBackward0>)"
      ]
     },
     "execution_count": 16,
     "metadata": {},
     "output_type": "execute_result"
    }
   ],
   "source": [
    "fc = nn.Linear(3136, 10)\n",
    "fc(out)"
   ]
  },
  {
   "cell_type": "code",
   "execution_count": 17,
   "id": "c69fa43e",
   "metadata": {},
   "outputs": [
    {
     "data": {
      "text/plain": [
       "torch.Size([1, 3136])"
      ]
     },
     "execution_count": 17,
     "metadata": {},
     "output_type": "execute_result"
    }
   ],
   "source": [
    "out.shape"
   ]
  },
  {
   "cell_type": "markdown",
   "id": "2c72c5ab",
   "metadata": {},
   "source": [
    "## EX"
   ]
  },
  {
   "cell_type": "code",
   "execution_count": 18,
   "id": "528347b9",
   "metadata": {},
   "outputs": [],
   "source": [
    "import torch\n",
    "import torch.nn as nn\n",
    "import torchvision.datasets as dsets\n",
    "import torchvision.transforms as transforms\n",
    "import torch.nn.init"
   ]
  },
  {
   "cell_type": "code",
   "execution_count": 19,
   "id": "0a2c2fc1",
   "metadata": {},
   "outputs": [],
   "source": [
    "device = 'cuda' if torch.cuda.is_available() else 'cpu'\n",
    "\n",
    "torch.manual_seed(777)\n",
    "if device == 'cuda':\n",
    "    torch.cuda.manual_seed_all(777)"
   ]
  },
  {
   "cell_type": "code",
   "execution_count": 29,
   "id": "2d5b5898",
   "metadata": {},
   "outputs": [
    {
     "data": {
      "text/plain": [
       "False"
      ]
     },
     "execution_count": 29,
     "metadata": {},
     "output_type": "execute_result"
    }
   ],
   "source": [
    "torch.cuda.is_available()"
   ]
  },
  {
   "cell_type": "code",
   "execution_count": 20,
   "id": "21e714f6",
   "metadata": {},
   "outputs": [],
   "source": [
    "# parameters\n",
    "learning_rate = 0.001\n",
    "training_epochs = 15\n",
    "batch_size = 100"
   ]
  },
  {
   "cell_type": "code",
   "execution_count": 36,
   "id": "dd2f6264",
   "metadata": {},
   "outputs": [],
   "source": [
    "# MNIST dataset\n",
    "\n",
    "mnist_train = dsets.MNIST(root='MNIST_data/',\n",
    "                         train=True,\n",
    "                         transform=transforms.ToTensor(),\n",
    "                         download=True)\n",
    "\n",
    "mnist_test = dsets.MNIST(root='MNIST_data/',\n",
    "                         train=False,\n",
    "                         transform=transforms.ToTensor(),\n",
    "                         download=True)"
   ]
  },
  {
   "cell_type": "code",
   "execution_count": 37,
   "id": "17dba181",
   "metadata": {},
   "outputs": [],
   "source": [
    "data_loader = torch.utils.data.DataLoader(dataset=mnist_train,\n",
    "                                         batch_size=batch_size,\n",
    "                                         shuffle=True,\n",
    "                                         drop_last=True)"
   ]
  },
  {
   "cell_type": "code",
   "execution_count": 43,
   "id": "2760c3cd",
   "metadata": {},
   "outputs": [],
   "source": [
    "class CNN(nn.Module):\n",
    "    \n",
    "    def __init__(self):\n",
    "        super(CNN, self).__init__()\n",
    "        self.layer1 = nn.Sequential(\n",
    "            nn.Conv2d(1, 32, kernel_size=3, stride=1, padding=1),\n",
    "            nn.ReLU(),\n",
    "            nn.MaxPool2d(2)\n",
    "        )\n",
    "        \n",
    "        self.layer2 = nn.Sequential(\n",
    "            nn.Conv2d(32, 64, kernel_size=3, stride=1, padding=1),\n",
    "            nn.ReLU(),\n",
    "            nn.MaxPool2d(2)\n",
    "        )\n",
    "        \n",
    "        self.layer3 = nn.Sequential(\n",
    "            nn.Conv2d(64, 128, kernel_size=3, stride=1, padding=1),\n",
    "            nn.ReLU(),\n",
    "            nn.MaxPool2d(2)\n",
    "        )\n",
    "        \n",
    "        self.fc1 = nn.Linear(3*3*128, 625, bias=True)\n",
    "        self.relu = nn.ReLU()\n",
    "        self.fc2 = nn.Linear(625, 10, bias=True)\n",
    "        torch.nn.init.xavier_uniform_(self.fc1.weight)\n",
    "        torch.nn.init.xavier_uniform_(self.fc2.weight)\n",
    "        \n",
    "    def forward(self, x):\n",
    "        out = self.layer1(x)\n",
    "        out = self.layer2(out)\n",
    "        out = self.layer3(out)\n",
    "        \n",
    "        out = out.view(out.size(0), -1)\n",
    "        out = self.fc1(out)\n",
    "        out = self.relu(out)\n",
    "        out = self.fc2(out)\n",
    "        return out"
   ]
  },
  {
   "cell_type": "code",
   "execution_count": 44,
   "id": "1b4cb2e3",
   "metadata": {},
   "outputs": [
    {
     "name": "stdout",
     "output_type": "stream",
     "text": [
      "torch.Size([1, 10])\n"
     ]
    }
   ],
   "source": [
    "model = CNN().to(device)\n",
    "value = torch.Tensor(1, 1, 28, 28).to(device)\n",
    "print((model(value)).shape)"
   ]
  },
  {
   "cell_type": "code",
   "execution_count": 45,
   "id": "2fc2faf5",
   "metadata": {},
   "outputs": [
    {
     "data": {
      "text/plain": [
       "CNN(\n",
       "  (layer1): Sequential(\n",
       "    (0): Conv2d(1, 32, kernel_size=(3, 3), stride=(1, 1), padding=(1, 1))\n",
       "    (1): ReLU()\n",
       "    (2): MaxPool2d(kernel_size=2, stride=2, padding=0, dilation=1, ceil_mode=False)\n",
       "  )\n",
       "  (layer2): Sequential(\n",
       "    (0): Conv2d(32, 64, kernel_size=(3, 3), stride=(1, 1), padding=(1, 1))\n",
       "    (1): ReLU()\n",
       "    (2): MaxPool2d(kernel_size=2, stride=2, padding=0, dilation=1, ceil_mode=False)\n",
       "  )\n",
       "  (layer3): Sequential(\n",
       "    (0): Conv2d(64, 128, kernel_size=(3, 3), stride=(1, 1), padding=(1, 1))\n",
       "    (1): ReLU()\n",
       "    (2): MaxPool2d(kernel_size=2, stride=2, padding=0, dilation=1, ceil_mode=False)\n",
       "  )\n",
       "  (fc1): Linear(in_features=1152, out_features=625, bias=True)\n",
       "  (relu): ReLU()\n",
       "  (fc2): Linear(in_features=625, out_features=10, bias=True)\n",
       ")"
      ]
     },
     "execution_count": 45,
     "metadata": {},
     "output_type": "execute_result"
    }
   ],
   "source": [
    "model"
   ]
  },
  {
   "cell_type": "code",
   "execution_count": 46,
   "id": "e92ccc6a",
   "metadata": {},
   "outputs": [],
   "source": [
    "criterion = nn.CrossEntropyLoss().to(device)\n",
    "optimizer = torch.optim.Adam(model.parameters(), lr=learning_rate)"
   ]
  },
  {
   "cell_type": "code",
   "execution_count": 47,
   "id": "080acd57",
   "metadata": {},
   "outputs": [
    {
     "name": "stdout",
     "output_type": "stream",
     "text": [
      "[Epoch:1] cost = 0.16390322148799896\n",
      "[Epoch:2] cost = 0.03996256738901138\n",
      "[Epoch:3] cost = 0.028612811118364334\n",
      "[Epoch:4] cost = 0.020586198195815086\n",
      "[Epoch:5] cost = 0.017301669344305992\n",
      "[Epoch:6] cost = 0.014706585556268692\n",
      "[Epoch:7] cost = 0.010303092189133167\n",
      "[Epoch:8] cost = 0.010482361540198326\n",
      "[Epoch:9] cost = 0.010244425386190414\n",
      "[Epoch:10] cost = 0.00881370808929205\n",
      "[Epoch:11] cost = 0.006220994051545858\n",
      "[Epoch:12] cost = 0.007970891892910004\n",
      "[Epoch:13] cost = 0.005872415844351053\n",
      "[Epoch:14] cost = 0.0051016779616475105\n",
      "[Epoch:15] cost = 0.004975962918251753\n",
      "Learning Finished!\n"
     ]
    }
   ],
   "source": [
    "# training\n",
    "total_batch = len(data_loader)\n",
    "\n",
    "for epoch in range(training_epochs):\n",
    "    avg_cost = 0\n",
    "    \n",
    "    for X, Y in data_loader:\n",
    "        X = X.to(device)\n",
    "        Y = Y.to(device)\n",
    "        \n",
    "        optimizer.zero_grad()\n",
    "        hypothesis = model(X)\n",
    "        \n",
    "        cost = criterion(hypothesis, Y)\n",
    "        cost.backward()\n",
    "        optimizer.step()\n",
    "        \n",
    "        avg_cost += cost/total_batch\n",
    "        \n",
    "    print('[Epoch:{}] cost = {}'.format(epoch+1, avg_cost))\n",
    "    \n",
    "print('Learning Finished!')"
   ]
  },
  {
   "cell_type": "code",
   "execution_count": 48,
   "id": "2f082908",
   "metadata": {},
   "outputs": [
    {
     "name": "stdout",
     "output_type": "stream",
     "text": [
      "Accuracy: 0.9886000156402588\n"
     ]
    }
   ],
   "source": [
    "# Test\n",
    "with torch.no_grad():\n",
    "    X_test = mnist_test.test_data.view(len(mnist_test), 1, 28, 28).float().to(device)\n",
    "    Y_test = mnist_test.test_labels.to(device)\n",
    "    \n",
    "    prediction = model(X_test)\n",
    "    correct_prediction = torch.argmax(prediction, 1) == Y_test\n",
    "    accuracy = correct_prediction.float().mean()\n",
    "    print('Accuracy:', accuracy.item())"
   ]
  },
  {
   "cell_type": "code",
   "execution_count": null,
   "id": "e634c598",
   "metadata": {},
   "outputs": [],
   "source": []
  }
 ],
 "metadata": {
  "kernelspec": {
   "display_name": "Python 3 (ipykernel)",
   "language": "python",
   "name": "python3"
  },
  "language_info": {
   "codemirror_mode": {
    "name": "ipython",
    "version": 3
   },
   "file_extension": ".py",
   "mimetype": "text/x-python",
   "name": "python",
   "nbconvert_exporter": "python",
   "pygments_lexer": "ipython3",
   "version": "3.9.7"
  }
 },
 "nbformat": 4,
 "nbformat_minor": 5
}
